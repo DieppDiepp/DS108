{
 "cells": [
  {
   "cell_type": "code",
   "execution_count": 3,
   "id": "a1b2922d",
   "metadata": {},
   "outputs": [],
   "source": [
    "import subprocess\n",
    "import time\n",
    "import socket\n",
    "from selenium import webdriver\n",
    "from selenium.webdriver.chrome.options import Options\n",
    "\n",
    "def check_port_open(port):\n",
    "    sock = socket.socket(socket.AF_INET, socket.SOCK_STREAM)\n",
    "    result = sock.connect_ex(('localhost', port))\n",
    "    return result == 0  # Port is open if result is 0\n",
    "\n",
    "# Khởi động Chrome với remote-debugging port\n",
    "subprocess.Popen([\n",
    "    r'C:\\Program Files\\Google\\Chrome\\Application\\chrome.exe',\n",
    "    '--remote-debugging-port=8797',\n",
    "    r'--user-data-dir=D:\\scraping\\chromedriver\\win64\\134.0.6998.165\\chromedriver-win32\\localhost'  # Profile riêng\n",
    "])\n",
    "\n",
    "# Đợi cho đến khi port 8797 mở\n",
    "while not check_port_open(8797):\n",
    "    time.sleep(0.5)\n",
    "\n",
    "# Kết nối bằng Selenium\n",
    "option = Options()\n",
    "option.add_experimental_option(\"debuggerAddress\", \"localhost:8797\")\n",
    "\n",
    "driver = webdriver.Chrome(options=option)\n",
    "driver.get(\"https://www.udemy.com/course/python-django-the-complete-django-web-development-course/learn/lecture/33483924#questions\")\n"
   ]
  },
  {
   "cell_type": "code",
   "execution_count": null,
   "id": "156b017a",
   "metadata": {},
   "outputs": [],
   "source": []
  }
 ],
 "metadata": {
  "kernelspec": {
   "display_name": "Python 3",
   "language": "python",
   "name": "python3"
  },
  "language_info": {
   "codemirror_mode": {
    "name": "ipython",
    "version": 3
   },
   "file_extension": ".py",
   "mimetype": "text/x-python",
   "name": "python",
   "nbconvert_exporter": "python",
   "pygments_lexer": "ipython3",
   "version": "3.11.4"
  }
 },
 "nbformat": 4,
 "nbformat_minor": 5
}
